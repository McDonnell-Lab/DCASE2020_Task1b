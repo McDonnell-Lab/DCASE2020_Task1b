{
 "cells": [
  {
   "cell_type": "code",
   "execution_count": 1,
   "metadata": {},
   "outputs": [
    {
     "name": "stdout",
     "output_type": "stream",
     "text": [
      "Librosa version =  0.6.3\n",
      "Pysoundfile version =  0.10.2\n"
     ]
    }
   ],
   "source": [
    "#imports \n",
    "import sys\n",
    "import numpy as np\n",
    "import matplotlib.pyplot as plt\n",
    "import h5py\n",
    "import pandas as pd\n",
    "import librosa\n",
    "import soundfile as sound\n",
    "\n",
    "print(\"Librosa version = \",librosa.__version__)\n",
    "print(\"Pysoundfile version = \",sound.__version__)\n"
   ]
  },
  {
   "cell_type": "code",
   "execution_count": 2,
   "metadata": {},
   "outputs": [],
   "source": [
    "BasePath = '../../Data/TAU-urban-acoustic-scenes-2020-3class-development/'\n",
    "TrainFile = BasePath + 'evaluation_setup/fold1_train.csv'\n",
    "ValFile = BasePath + 'evaluation_setup/fold1_evaluate.csv'\n",
    "sr = 48000\n",
    "num_audio_channels = 2"
   ]
  },
  {
   "cell_type": "code",
   "execution_count": 3,
   "metadata": {},
   "outputs": [],
   "source": [
    "  \n",
    "SampleDuration = 10\n",
    "\n",
    "#log-mel spectrogram parameters\n",
    "NumFreqBins = 256 #128\n",
    "NumFFTPoints = 4096 #2048\n",
    "HopLength = int(NumFFTPoints/4) #int(NumFFTPoints/2)\n",
    "NumTimeBins = int(np.ceil(SampleDuration*sr/HopLength))\n"
   ]
  },
  {
   "cell_type": "code",
   "execution_count": 4,
   "metadata": {},
   "outputs": [],
   "source": [
    "\n",
    "\n",
    "#load filenames and labels\n",
    "dev_train_df = pd.read_csv(TrainFile,sep='\\t', encoding='ASCII')\n",
    "dev_val_df = pd.read_csv(ValFile,sep='\\t', encoding='ASCII')\n",
    "wavpaths_train = dev_train_df['filename'].tolist()\n",
    "wavpaths_val = dev_val_df['filename'].tolist()\n",
    "y_train_labels =  dev_train_df['scene_label'].astype('category').cat.codes.values\n",
    "y_val_labels =  dev_val_df['scene_label'].astype('category').cat.codes.values\n",
    "\n",
    "ClassNames = np.unique(dev_train_df['scene_label'])\n",
    "NumClasses = len(ClassNames)\n",
    "\n"
   ]
  },
  {
   "cell_type": "code",
   "execution_count": 5,
   "metadata": {},
   "outputs": [
    {
     "data": {
      "text/plain": [
       "outdoor           3757\n",
       "transportation    2724\n",
       "indoor            2704\n",
       "Name: scene_label, dtype: int64"
      ]
     },
     "execution_count": 5,
     "metadata": {},
     "output_type": "execute_result"
    }
   ],
   "source": [
    "dev_train_df['scene_label'].value_counts()"
   ]
  },
  {
   "cell_type": "code",
   "execution_count": 5,
   "metadata": {},
   "outputs": [
    {
     "data": {
      "text/plain": [
       "array(['indoor', 'outdoor', 'transportation'], dtype=object)"
      ]
     },
     "execution_count": 5,
     "metadata": {},
     "output_type": "execute_result"
    }
   ],
   "source": [
    "ClassNames"
   ]
  },
  {
   "cell_type": "code",
   "execution_count": 6,
   "metadata": {},
   "outputs": [],
   "source": [
    "LM_train = np.zeros((len(wavpaths_train),NumFreqBins,NumTimeBins,num_audio_channels),'float32')\n",
    "for i in range(len(wavpaths_train)):\n",
    "    stereo,fs = sound.read(BasePath + wavpaths_train[i],stop=SampleDuration*sr)\n",
    "\n",
    "    for channel in range(num_audio_channels):\n",
    "        if len(stereo.shape)==1:\n",
    "            stereo = np.expand_dims(stereo,-1)\n",
    "        LM_train[i,:,:,channel]= librosa.feature.melspectrogram(stereo[:,channel], \n",
    "                                       sr=sr,\n",
    "                                       n_fft=NumFFTPoints,\n",
    "                                       hop_length=HopLength,\n",
    "                                       n_mels=NumFreqBins,\n",
    "                                       fmin=0.0,\n",
    "                                       fmax=sr/2,\n",
    "                                       htk=True,\n",
    "                                       norm=None)"
   ]
  },
  {
   "cell_type": "code",
   "execution_count": 7,
   "metadata": {},
   "outputs": [
    {
     "data": {
      "text/plain": [
       "(480000, 2)"
      ]
     },
     "execution_count": 7,
     "metadata": {},
     "output_type": "execute_result"
    }
   ],
   "source": [
    "stereo.shape"
   ]
  },
  {
   "cell_type": "code",
   "execution_count": 8,
   "metadata": {},
   "outputs": [
    {
     "data": {
      "text/plain": [
       "(9185, 256, 469, 2)"
      ]
     },
     "execution_count": 8,
     "metadata": {},
     "output_type": "execute_result"
    }
   ],
   "source": [
    "LM_train.shape"
   ]
  },
  {
   "cell_type": "code",
   "execution_count": 9,
   "metadata": {},
   "outputs": [],
   "source": [
    "\n",
    "LM_val = np.zeros((len(wavpaths_val),NumFreqBins,NumTimeBins,num_audio_channels),'float32')\n",
    "for i in range(len(wavpaths_val)):\n",
    "    stereo,fs = sound.read(BasePath + wavpaths_val[i],stop=SampleDuration*sr)\n",
    "    for channel in range(num_audio_channels):\n",
    "        if len(stereo.shape)==1:\n",
    "            stereo = np.expand_dims(stereo,-1)\n",
    "        LM_val[i,:,:,channel]= librosa.feature.melspectrogram(stereo[:,channel], \n",
    "                                       sr=sr,\n",
    "                                       n_fft=NumFFTPoints,\n",
    "                                       hop_length=HopLength,\n",
    "                                       n_mels=NumFreqBins,\n",
    "                                       fmin=0.0,\n",
    "                                       fmax=sr/2,\n",
    "                                       htk=True,\n",
    "                                       norm=None)\n"
   ]
  },
  {
   "cell_type": "code",
   "execution_count": 10,
   "metadata": {},
   "outputs": [
    {
     "data": {
      "text/plain": [
       "(4185, 256, 469, 2)"
      ]
     },
     "execution_count": 10,
     "metadata": {},
     "output_type": "execute_result"
    }
   ],
   "source": [
    "LM_val.shape"
   ]
  },
  {
   "cell_type": "code",
   "execution_count": 11,
   "metadata": {},
   "outputs": [],
   "source": [
    "#np.save('Task1b_LM_train_128_2048.npy', LM_train)\n",
    "np.save('Task1b_LM_train_256_4096.npy', LM_train)"
   ]
  },
  {
   "cell_type": "code",
   "execution_count": 12,
   "metadata": {},
   "outputs": [],
   "source": [
    "#np.save('Task1b_LM_val_128_2048.npy', LM_val)\n",
    "np.save('Task1b_LM_val_256_4096.npy', LM_val)"
   ]
  },
  {
   "cell_type": "code",
   "execution_count": null,
   "metadata": {},
   "outputs": [],
   "source": [
    "#make a copy with all the data\n",
    "All_data_df =  pd.read_csv('../../Data/TAU-urban-acoustic-scenes-2020-3class-development/meta.csv',sep='\\t', encoding='ASCII')\n",
    "All_data_df['city']=[aa.split('-')[1] for aa in All_data_df['filename'].get_values()]\n",
    "\n",
    "wavpaths = All_data_df['filename'].tolist()\n",
    "y_labels = All_data_df['scene_label'].astype('category').cat.codes.values\n",
    "    \n",
    "LM = np.zeros((len(wavpaths),NumFreqBins,NumTimeBins,num_audio_channels),'float32')\n",
    "for i in range(len(wavpaths)):\n",
    "    stereo,fs = sound.read(BasePath + wavpaths[i],stop=SampleDuration*sr)\n",
    "\n",
    "    for channel in range(num_audio_channels):\n",
    "        if len(stereo.shape)==1:\n",
    "            stereo = np.expand_dims(stereo,-1)\n",
    "        LM[i,:,:,channel]= librosa.feature.melspectrogram(stereo[:,channel], \n",
    "                                           sr=sr,\n",
    "                                           n_fft=NumFFTPoints,\n",
    "                                           hop_length=HopLength,\n",
    "                                           n_mels=NumFreqBins,\n",
    "                                           fmin=0.0,\n",
    "                                           fmax=sr/2,\n",
    "                                           htk=True,\n",
    "                                           norm=None)\n",
    "            \n",
    "np.save('Task1b_LM_train_256_4096_all.npy', LM)"
   ]
  },
  {
   "cell_type": "code",
   "execution_count": null,
   "metadata": {},
   "outputs": [],
   "source": []
  }
 ],
 "metadata": {
  "kernelspec": {
   "display_name": "Python 3",
   "language": "python",
   "name": "python3"
  },
  "language_info": {
   "codemirror_mode": {
    "name": "ipython",
    "version": 3
   },
   "file_extension": ".py",
   "mimetype": "text/x-python",
   "name": "python",
   "nbconvert_exporter": "python",
   "pygments_lexer": "ipython3",
   "version": "3.6.8"
  }
 },
 "nbformat": 4,
 "nbformat_minor": 2
}
